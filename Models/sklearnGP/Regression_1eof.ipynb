{
 "cells": [
  {
   "cell_type": "code",
   "execution_count": 13,
   "id": "15ebab2d-6e35-4a30-b394-a594ec66582d",
   "metadata": {},
   "outputs": [
    {
     "data": {
      "text/plain": [
       "<module 'analyseModel' from '/gpfswork/rech/omr/uen17sn/NewSpinUp/lib/analyseModel.py'>"
      ]
     },
     "execution_count": 13,
     "metadata": {},
     "output_type": "execute_result"
    }
   ],
   "source": [
    "import sys \n",
    "sys.path.insert(0,\"/gpfswork/rech/omr/uen17sn/NewSpinUp/lib/sklearnGPmodel\")\n",
    "sys.path.insert(0,\"/gpfswork/rech/omr/uen17sn/NewSpinUp/lib\")\n",
    "import sklearnGPmodel as skgp\n",
    "import analyseModel as analyse\n",
    "\n",
    "import numpy as np\n",
    "import matplotlib.pyplot as plt\n",
    "import pandas as pd\n",
    "from joblib import Parallel, delayed, parallel_backend\n",
    "\n",
    "import importlib\n",
    "importlib.reload(skgp)\n",
    "importlib.reload(analyse)"
   ]
  },
  {
   "cell_type": "markdown",
   "id": "28f4f73c",
   "metadata": {},
   "source": [
    "## **Simulation Loading**"
   ]
  },
  {
   "cell_type": "code",
   "execution_count": 5,
   "id": "1621afdf-c6c5-4504-9491-98f185bca8e3",
   "metadata": {},
   "outputs": [],
   "source": [
    "simu_nb = 204"
   ]
  },
  {
   "cell_type": "code",
   "execution_count": 6,
   "id": "c624baf3-11a3-44f1-8319-f6d99c95eb25",
   "metadata": {},
   "outputs": [
    {
     "data": {
      "text/plain": [
       "(600, 18)"
      ]
     },
     "execution_count": 6,
     "metadata": {},
     "output_type": "execute_result"
    }
   ],
   "source": [
    "df = pd.read_csv(f\"/gpfswork/rech/omr/uen17sn/NewSpinUp/datasets/yearly/dataFrame/simu{simu_nb}\")\n",
    "df.shape"
   ]
  },
  {
   "cell_type": "code",
   "execution_count": 7,
   "id": "d35282ad-b6c2-43cd-8e14-b42cfd58f650",
   "metadata": {},
   "outputs": [
    {
     "data": {
      "text/html": [
       "<div>\n",
       "<style scoped>\n",
       "    .dataframe tbody tr th:only-of-type {\n",
       "        vertical-align: middle;\n",
       "    }\n",
       "\n",
       "    .dataframe tbody tr th {\n",
       "        vertical-align: top;\n",
       "    }\n",
       "\n",
       "    .dataframe thead th {\n",
       "        text-align: right;\n",
       "    }\n",
       "</style>\n",
       "<table border=\"1\" class=\"dataframe\">\n",
       "  <thead>\n",
       "    <tr style=\"text-align: right;\">\n",
       "      <th></th>\n",
       "      <th>Unnamed: 0</th>\n",
       "      <th>MSFT-1</th>\n",
       "      <th>MSFT-2</th>\n",
       "      <th>MSFT-3</th>\n",
       "      <th>MSFT-4</th>\n",
       "      <th>MSFT-5</th>\n",
       "      <th>MSFT-6</th>\n",
       "      <th>MSFT-7</th>\n",
       "      <th>MSFT-8</th>\n",
       "      <th>MSFT-9</th>\n",
       "      <th>MSFT-10</th>\n",
       "      <th>MSFT-11</th>\n",
       "      <th>MSFT-12</th>\n",
       "      <th>MSFT-13</th>\n",
       "      <th>MSFT-14</th>\n",
       "      <th>MSFT-15</th>\n",
       "      <th>MSFT-16</th>\n",
       "      <th>MSFT-17</th>\n",
       "    </tr>\n",
       "  </thead>\n",
       "  <tbody>\n",
       "    <tr>\n",
       "      <th>0</th>\n",
       "      <td>0</td>\n",
       "      <td>19.270443</td>\n",
       "      <td>2.142370</td>\n",
       "      <td>0.393435</td>\n",
       "      <td>0.900593</td>\n",
       "      <td>1.674075</td>\n",
       "      <td>0.656456</td>\n",
       "      <td>0.697247</td>\n",
       "      <td>0.299805</td>\n",
       "      <td>-2.402743</td>\n",
       "      <td>0.250962</td>\n",
       "      <td>-0.692004</td>\n",
       "      <td>-0.592743</td>\n",
       "      <td>-1.282935</td>\n",
       "      <td>2.066055</td>\n",
       "      <td>-1.230658</td>\n",
       "      <td>1.050119</td>\n",
       "      <td>0.626496</td>\n",
       "    </tr>\n",
       "    <tr>\n",
       "      <th>1</th>\n",
       "      <td>1</td>\n",
       "      <td>18.126086</td>\n",
       "      <td>-0.317462</td>\n",
       "      <td>1.876019</td>\n",
       "      <td>-2.290273</td>\n",
       "      <td>1.152702</td>\n",
       "      <td>-2.839545</td>\n",
       "      <td>0.043029</td>\n",
       "      <td>0.230378</td>\n",
       "      <td>-2.881111</td>\n",
       "      <td>0.739010</td>\n",
       "      <td>-0.662857</td>\n",
       "      <td>1.469690</td>\n",
       "      <td>-2.224213</td>\n",
       "      <td>1.880381</td>\n",
       "      <td>-1.237545</td>\n",
       "      <td>-0.457881</td>\n",
       "      <td>0.177222</td>\n",
       "    </tr>\n",
       "    <tr>\n",
       "      <th>2</th>\n",
       "      <td>2</td>\n",
       "      <td>19.799096</td>\n",
       "      <td>4.408964</td>\n",
       "      <td>2.863528</td>\n",
       "      <td>0.156425</td>\n",
       "      <td>1.995186</td>\n",
       "      <td>1.479123</td>\n",
       "      <td>-0.352089</td>\n",
       "      <td>2.045279</td>\n",
       "      <td>-3.024101</td>\n",
       "      <td>1.110103</td>\n",
       "      <td>-1.412786</td>\n",
       "      <td>1.121846</td>\n",
       "      <td>-0.853135</td>\n",
       "      <td>1.741023</td>\n",
       "      <td>0.928641</td>\n",
       "      <td>-1.775934</td>\n",
       "      <td>1.091334</td>\n",
       "    </tr>\n",
       "    <tr>\n",
       "      <th>3</th>\n",
       "      <td>3</td>\n",
       "      <td>18.021828</td>\n",
       "      <td>2.703452</td>\n",
       "      <td>0.278213</td>\n",
       "      <td>-0.685550</td>\n",
       "      <td>0.850088</td>\n",
       "      <td>2.022986</td>\n",
       "      <td>0.541819</td>\n",
       "      <td>0.463398</td>\n",
       "      <td>-2.676218</td>\n",
       "      <td>2.447300</td>\n",
       "      <td>-1.699289</td>\n",
       "      <td>-0.256894</td>\n",
       "      <td>-0.720332</td>\n",
       "      <td>1.380011</td>\n",
       "      <td>-0.863466</td>\n",
       "      <td>-0.841869</td>\n",
       "      <td>0.206651</td>\n",
       "    </tr>\n",
       "    <tr>\n",
       "      <th>4</th>\n",
       "      <td>4</td>\n",
       "      <td>18.324972</td>\n",
       "      <td>-1.704952</td>\n",
       "      <td>2.662613</td>\n",
       "      <td>-0.800777</td>\n",
       "      <td>1.806584</td>\n",
       "      <td>0.453126</td>\n",
       "      <td>1.556290</td>\n",
       "      <td>-0.343425</td>\n",
       "      <td>-1.930756</td>\n",
       "      <td>1.832212</td>\n",
       "      <td>-2.703416</td>\n",
       "      <td>0.217363</td>\n",
       "      <td>-0.265366</td>\n",
       "      <td>0.658164</td>\n",
       "      <td>-1.171646</td>\n",
       "      <td>-0.402770</td>\n",
       "      <td>-0.508395</td>\n",
       "    </tr>\n",
       "    <tr>\n",
       "      <th>...</th>\n",
       "      <td>...</td>\n",
       "      <td>...</td>\n",
       "      <td>...</td>\n",
       "      <td>...</td>\n",
       "      <td>...</td>\n",
       "      <td>...</td>\n",
       "      <td>...</td>\n",
       "      <td>...</td>\n",
       "      <td>...</td>\n",
       "      <td>...</td>\n",
       "      <td>...</td>\n",
       "      <td>...</td>\n",
       "      <td>...</td>\n",
       "      <td>...</td>\n",
       "      <td>...</td>\n",
       "      <td>...</td>\n",
       "      <td>...</td>\n",
       "      <td>...</td>\n",
       "    </tr>\n",
       "    <tr>\n",
       "      <th>595</th>\n",
       "      <td>595</td>\n",
       "      <td>-7.865353</td>\n",
       "      <td>-2.516719</td>\n",
       "      <td>1.852746</td>\n",
       "      <td>-3.361166</td>\n",
       "      <td>-0.309828</td>\n",
       "      <td>0.956749</td>\n",
       "      <td>-0.625544</td>\n",
       "      <td>-0.893437</td>\n",
       "      <td>0.432137</td>\n",
       "      <td>-0.734797</td>\n",
       "      <td>0.971754</td>\n",
       "      <td>-1.005932</td>\n",
       "      <td>-0.141217</td>\n",
       "      <td>0.605322</td>\n",
       "      <td>-0.086860</td>\n",
       "      <td>-0.821845</td>\n",
       "      <td>-0.270445</td>\n",
       "    </tr>\n",
       "    <tr>\n",
       "      <th>596</th>\n",
       "      <td>596</td>\n",
       "      <td>-14.660176</td>\n",
       "      <td>-0.893286</td>\n",
       "      <td>0.684826</td>\n",
       "      <td>0.750066</td>\n",
       "      <td>0.664466</td>\n",
       "      <td>-0.914125</td>\n",
       "      <td>-1.791526</td>\n",
       "      <td>0.358435</td>\n",
       "      <td>1.359398</td>\n",
       "      <td>-0.835893</td>\n",
       "      <td>-0.804724</td>\n",
       "      <td>-0.294809</td>\n",
       "      <td>-1.122392</td>\n",
       "      <td>1.298026</td>\n",
       "      <td>-0.262206</td>\n",
       "      <td>-1.816000</td>\n",
       "      <td>-0.618881</td>\n",
       "    </tr>\n",
       "    <tr>\n",
       "      <th>597</th>\n",
       "      <td>597</td>\n",
       "      <td>-11.637559</td>\n",
       "      <td>4.705814</td>\n",
       "      <td>-0.354740</td>\n",
       "      <td>-2.540747</td>\n",
       "      <td>0.600750</td>\n",
       "      <td>0.186076</td>\n",
       "      <td>-0.940802</td>\n",
       "      <td>0.300413</td>\n",
       "      <td>0.596932</td>\n",
       "      <td>-0.554778</td>\n",
       "      <td>-0.119186</td>\n",
       "      <td>0.140601</td>\n",
       "      <td>-1.652222</td>\n",
       "      <td>0.334938</td>\n",
       "      <td>0.459905</td>\n",
       "      <td>-0.485895</td>\n",
       "      <td>0.592557</td>\n",
       "    </tr>\n",
       "    <tr>\n",
       "      <th>598</th>\n",
       "      <td>598</td>\n",
       "      <td>-12.735922</td>\n",
       "      <td>-1.051270</td>\n",
       "      <td>-0.749646</td>\n",
       "      <td>0.335014</td>\n",
       "      <td>0.205789</td>\n",
       "      <td>1.875127</td>\n",
       "      <td>0.478309</td>\n",
       "      <td>-0.556110</td>\n",
       "      <td>0.221827</td>\n",
       "      <td>-1.353561</td>\n",
       "      <td>0.608779</td>\n",
       "      <td>0.055874</td>\n",
       "      <td>-1.455476</td>\n",
       "      <td>0.512154</td>\n",
       "      <td>-0.364183</td>\n",
       "      <td>0.155810</td>\n",
       "      <td>0.770345</td>\n",
       "    </tr>\n",
       "    <tr>\n",
       "      <th>599</th>\n",
       "      <td>599</td>\n",
       "      <td>-10.930174</td>\n",
       "      <td>-2.527054</td>\n",
       "      <td>1.423823</td>\n",
       "      <td>1.215551</td>\n",
       "      <td>-0.404767</td>\n",
       "      <td>0.357751</td>\n",
       "      <td>-0.433289</td>\n",
       "      <td>2.002228</td>\n",
       "      <td>-0.113940</td>\n",
       "      <td>-1.708363</td>\n",
       "      <td>-0.945734</td>\n",
       "      <td>-0.202552</td>\n",
       "      <td>-0.097769</td>\n",
       "      <td>1.667183</td>\n",
       "      <td>-0.969240</td>\n",
       "      <td>-0.868629</td>\n",
       "      <td>-0.768095</td>\n",
       "    </tr>\n",
       "  </tbody>\n",
       "</table>\n",
       "<p>600 rows × 18 columns</p>\n",
       "</div>"
      ],
      "text/plain": [
       "     Unnamed: 0     MSFT-1    MSFT-2    MSFT-3    MSFT-4    MSFT-5    MSFT-6  \\\n",
       "0             0  19.270443  2.142370  0.393435  0.900593  1.674075  0.656456   \n",
       "1             1  18.126086 -0.317462  1.876019 -2.290273  1.152702 -2.839545   \n",
       "2             2  19.799096  4.408964  2.863528  0.156425  1.995186  1.479123   \n",
       "3             3  18.021828  2.703452  0.278213 -0.685550  0.850088  2.022986   \n",
       "4             4  18.324972 -1.704952  2.662613 -0.800777  1.806584  0.453126   \n",
       "..          ...        ...       ...       ...       ...       ...       ...   \n",
       "595         595  -7.865353 -2.516719  1.852746 -3.361166 -0.309828  0.956749   \n",
       "596         596 -14.660176 -0.893286  0.684826  0.750066  0.664466 -0.914125   \n",
       "597         597 -11.637559  4.705814 -0.354740 -2.540747  0.600750  0.186076   \n",
       "598         598 -12.735922 -1.051270 -0.749646  0.335014  0.205789  1.875127   \n",
       "599         599 -10.930174 -2.527054  1.423823  1.215551 -0.404767  0.357751   \n",
       "\n",
       "       MSFT-7    MSFT-8    MSFT-9   MSFT-10   MSFT-11   MSFT-12   MSFT-13  \\\n",
       "0    0.697247  0.299805 -2.402743  0.250962 -0.692004 -0.592743 -1.282935   \n",
       "1    0.043029  0.230378 -2.881111  0.739010 -0.662857  1.469690 -2.224213   \n",
       "2   -0.352089  2.045279 -3.024101  1.110103 -1.412786  1.121846 -0.853135   \n",
       "3    0.541819  0.463398 -2.676218  2.447300 -1.699289 -0.256894 -0.720332   \n",
       "4    1.556290 -0.343425 -1.930756  1.832212 -2.703416  0.217363 -0.265366   \n",
       "..        ...       ...       ...       ...       ...       ...       ...   \n",
       "595 -0.625544 -0.893437  0.432137 -0.734797  0.971754 -1.005932 -0.141217   \n",
       "596 -1.791526  0.358435  1.359398 -0.835893 -0.804724 -0.294809 -1.122392   \n",
       "597 -0.940802  0.300413  0.596932 -0.554778 -0.119186  0.140601 -1.652222   \n",
       "598  0.478309 -0.556110  0.221827 -1.353561  0.608779  0.055874 -1.455476   \n",
       "599 -0.433289  2.002228 -0.113940 -1.708363 -0.945734 -0.202552 -0.097769   \n",
       "\n",
       "      MSFT-14   MSFT-15   MSFT-16   MSFT-17  \n",
       "0    2.066055 -1.230658  1.050119  0.626496  \n",
       "1    1.880381 -1.237545 -0.457881  0.177222  \n",
       "2    1.741023  0.928641 -1.775934  1.091334  \n",
       "3    1.380011 -0.863466 -0.841869  0.206651  \n",
       "4    0.658164 -1.171646 -0.402770 -0.508395  \n",
       "..        ...       ...       ...       ...  \n",
       "595  0.605322 -0.086860 -0.821845 -0.270445  \n",
       "596  1.298026 -0.262206 -1.816000 -0.618881  \n",
       "597  0.334938  0.459905 -0.485895  0.592557  \n",
       "598  0.512154 -0.364183  0.155810  0.770345  \n",
       "599  1.667183 -0.969240 -0.868629 -0.768095  \n",
       "\n",
       "[600 rows x 18 columns]"
      ]
     },
     "execution_count": 7,
     "metadata": {},
     "output_type": "execute_result"
    }
   ],
   "source": [
    "df"
   ]
  },
  {
   "cell_type": "code",
   "execution_count": 8,
   "id": "3201c32f-a14b-4c80-8a1d-80bd4223fb00",
   "metadata": {},
   "outputs": [
    {
     "data": {
      "text/plain": [
       "[<matplotlib.lines.Line2D at 0x14bc36e658b0>]"
      ]
     },
     "execution_count": 8,
     "metadata": {},
     "output_type": "execute_result"
    },
    {
     "data": {
      "image/png": "[encoded data removed]",
      "text/plain": [
       "<Figure size 432x288 with 1 Axes>"
      ]
     },
     "metadata": {
      "needs_background": "light"
     },
     "output_type": "display_data"
    }
   ],
   "source": [
    "plt.plot(df[\"MSFT-1\"])"
   ]
  },
  {
   "cell_type": "markdown",
   "id": "2b222da4-43ee-4574-8c7a-8ca769828a84",
   "metadata": {
    "tags": []
   },
   "source": [
    "## **Forecast one simu and one EOF**"
   ]
  },
  {
   "cell_type": "markdown",
   "id": "209edab7-30bb-44b6-910c-53bf752409c2",
   "metadata": {},
   "source": [
    "### 2.1 - Select parameters"
   ]
  },
  {
   "cell_type": "code",
   "execution_count": 9,
   "id": "c8f34db9-9cb5-422f-a673-d8ab0696eaf2",
   "metadata": {},
   "outputs": [],
   "source": [
    "gp_model    = skgp.defineGP()\n",
    "eof1        = df[\"MSFT-1\"]\n",
    "norm        = True\n",
    "window_size = 16  ### what we want to forecast mean or mean + variance ??\n",
    "y           = window_size//2\n",
    "show        = True\n",
    "f           = 1.96 #intervalle de confiance 90% des valeurs plus proche moy #1.96\n",
    "out         = 5 #Number of predictions out of the intervalle ok before not ok"
   ]
  },
  {
   "cell_type": "markdown",
   "id": "40283c25-eddb-41a8-9a1e-fafbeec64777",
   "metadata": {},
   "source": [
    "### 2.2 - Apply Regression model"
   ]
  },
  {
   "cell_type": "code",
   "execution_count": 10,
   "id": "af481409-f960-45b6-bd52-04547a8728e5",
   "metadata": {},
   "outputs": [
    {
     "data": {
      "text/plain": [
       "<module 'sklearnGPmodel' from '/gpfswork/rech/omr/uen17sn/NewSpinUp/lib/sklearnGPmodel/sklearnGPmodel.py'>"
      ]
     },
     "execution_count": 10,
     "metadata": {},
     "output_type": "execute_result"
    }
   ],
   "source": [
    "importlib.reload(skgp)"
   ]
  },
  {
   "cell_type": "code",
   "execution_count": 12,
   "id": "62d2f96f-34e1-470e-ad00-81e0242da3c1",
   "metadata": {},
   "outputs": [
    {
     "data": {
      "image/png": "[encoded data removed]",
      "text/plain": [
       "<Figure size 864x360 with 1 Axes>"
      ]
     },
     "metadata": {
      "needs_background": "light"
     },
     "output_type": "display_data"
    }
   ],
   "source": [
    "train_len = 200\n",
    "steps     = 1\n",
    "\n",
    "mean_preds,std_preds,metrics = skgp.predict(eof       = eof1,\n",
    "                                            train_len = train_len,\n",
    "                                            process   = gp_model,\n",
    "                                            steps     = steps,\n",
    "                                            norm      = norm,\n",
    "                                            show      = show,\n",
    "                                            w         = window_size)"
   ]
  },
  {
   "cell_type": "markdown",
   "id": "45ae1196-feda-446d-adb4-fc0c76a45925",
   "metadata": {},
   "source": [
    "### 2.4 - Observe score "
   ]
  },
  {
   "cell_type": "code",
   "execution_count": 77,
   "id": "e6189a0f-9f49-4e88-a398-15b8c770256a",
   "metadata": {},
   "outputs": [
    {
     "data": {
      "image/png": "[encoded data removed]",
      "text/plain": [
       "<Figure size 936x216 with 1 Axes>"
      ]
     },
     "metadata": {
      "needs_background": "light"
     },
     "output_type": "display_data"
    }
   ],
   "source": [
    "correct_years = analyse.goodPred(metrics,out=5,f=1.96,evaluation_method=\"std\")\n",
    "\n",
    "\n",
    "fig  = plt.figure(figsize=(13,3))  \n",
    "\n",
    "axis = np.arange(y,(len(metrics[\"ma_pred\"])+y))\n",
    "plt.plot(axis, metrics[\"ma_pred\"], color=\"orange\",label=\"prediction\")\n",
    "plt.plot(axis, metrics[\"ma_true\"], linestyle=\"dashed\",color=\"black\",alpha=0.6,label=\"test\")\n",
    "plt.fill_between(\n",
    "    axis,\n",
    "    metrics[\"ma_true\"]-f*np.sqrt(metrics[\"std_true\"]),\n",
    "    metrics[\"ma_true\"]+f*np.sqrt(metrics[\"std_true\"]),\n",
    "    color = \"tab:grey\",\n",
    "    alpha = 0.2)  \n",
    "\n",
    "plt.axvline(correct_years,color = \"darkgreen\",linewidth=0.7)\n",
    "\n",
    "plt.legend()\n",
    "plt.title(f\"90% confidence interval of the test serie\");"
   ]
  },
  {
   "cell_type": "markdown",
   "id": "43d47a40-6afa-49ba-b824-3203b51edb99",
   "metadata": {},
   "source": [
    "## **Analyse Models**"
   ]
  },
  {
   "cell_type": "markdown",
   "id": "fa8bdbf4-19cf-4b9b-a16f-530b09a9085b",
   "metadata": {},
   "source": [
    "### 3.1 - Analyse correct predictions"
   ]
  },
  {
   "cell_type": "code",
   "execution_count": null,
   "id": "f58d3a6b-fea8-4251-b413-a8473b0a5da8",
   "metadata": {
    "tags": []
   },
   "outputs": [],
   "source": [
    "steps      = 1\n",
    "f          = 1.96\n",
    "train_lens = np.arange(60,545,1)\n",
    "res1       = []\n",
    "\n",
    "results      = Parallel(n_jobs=10)(delayed(skgp.predict)(eof1,i,gp_model,steps,show=False,w=16) for i in train_lens)          \n",
    "correct_pred = [analyse.goodPred(results[i][2],out=5,f=f) for i in range(len(train_lens))] "
   ]
  },
  {
   "cell_type": "code",
   "execution_count": 73,
   "id": "59c65d57-e03a-4208-be02-0e1eb8a7ba2d",
   "metadata": {},
   "outputs": [
    {
     "name": "stdout",
     "output_type": "stream",
     "text": [
      "Nb of samples: 485\n",
      "Average nb of years correctly pred: 53.61237113402062\n",
      "\n",
      "10.0% of correct predictions < 14 years\n",
      "25.0% of correct predictions < 20 years\n",
      "50.0% of correct predictions < 33 years\n",
      "75.0% of correct predictions < 67 years\n",
      "95.0% of correct predictions < 175 years\n"
     ]
    }
   ],
   "source": [
    "print(f\"Nb of samples: {len(correct_pred)}\")\n",
    "print(f\"Average nb of years correctly pred: {np.mean(correct_pred)}\")\n",
    "print()\n",
    "tri    = sorted(correct_pred)\n",
    "values = [0.1,0.25,0.5,0.75,0.95]\n",
    "for val in values:\n",
    "    ye = tri[int(len(tri) * val)]\n",
    "    print(f\"{val*100}% of correct predictions < {ye} years\")"
   ]
  },
  {
   "cell_type": "code",
   "execution_count": 110,
   "id": "0f925b6d-c9b7-4d37-a151-19598fddc70c",
   "metadata": {},
   "outputs": [
    {
     "data": {
      "application/vnd.plotly.v1+json": {
       "config": {
        "plotlyServerURL": "https://plot.ly"
       },
       "data": [
        {
         "alignmentgroup": "True",
         "hovertemplate": "variable=%{x}<br>value=%{y}<extra></extra>",
         "legendgroup": "",
         "line": {
          "color": "darkorange"
         },
         "marker": {
          "color": "orange"
         },
         "name": "",
         "notched": false,
         "offsetgroup": "",
         "orientation": "v",
         "showlegend": false,
         "type": "box",
         "x": [
          "0",
          "0",
          "0",
          "0",
          "0",
          "0",
          "0",
          "0",
          "0",
          "0",
          "0",
          "0",
          "0",
          "0",
          "0",
          "0",
          "0",
          "0",
          "0",
          "0",
          "0",
          "0",
          "0",
          "0",
          "0",
          "0",
          "0",
          "0",
          "0",
          "0",
          "0",
          "0",
          "0",
          "0",
          "0",
          "0",
          "0",
          "0",
          "0",
          "0",
          "0",
          "0",
          "0",
          "0",
          "0",
          "0",
          "0",
          "0",
          "0",
          "0",
          "0",
          "0",
          "0",
          "0",
          "0",
          "0",
          "0",
          "0",
          "0",
          "0",
          "0",
          "0",
          "0",
          "0",
          "0",
          "0",
          "0",
          "0",
          "0",
          "0",
          "0",
          "0",
          "0",
          "0",
          "0",
          "0",
          "0",
          "0",
          "0",
          "0",
          "0",
          "0",
          "0",
          "0",
          "0",
          "0",
          "0",
          "0",
          "0",
          "0",
          "0",
          "0",
          "0",
          "0",
          "0",
          "0",
          "0",
          "0",
          "0",
          "0",
          "0",
          "0",
          "0",
          "0",
          "0",
          "0",
          "0",
          "0",
          "0",
          "0",
          "0",
          "0",
          "0",
          "0",
          "0",
          "0",
          "0",
          "0",
          "0",
          "0",
          "0",
          "0",
          "0",
          "0",
          "0",
          "0",
          "0",
          "0",
          "0",
          "0",
          "0",
          "0",
          "0",
          "0",
          "0",
          "0",
          "0",
          "0",
          "0",
          "0",
          "0",
          "0",
          "0",
          "0",
          "0",
          "0",
          "0",
          "0",
          "0",
          "0",
          "0",
          "0",
          "0",
          "0",
          "0",
          "0",
          "0",
          "0",
          "0",
          "0",
          "0",
          "0",
          "0",
          "0",
          "0",
          "0",
          "0",
          "0",
          "0",
          "0",
          "0",
          "0",
          "0",
          "0",
          "0",
          "0",
          "0",
          "0",
          "0",
          "0",
          "0",
          "0",
          "0",
          "0",
          "0",
          "0",
          "0",
          "0",
          "0",
          "0",
          "0",
          "0",
          "0",
          "0",
          "0",
          "0",
          "0",
          "0",
          "0",
          "0",
          "0",
          "0",
          "0",
          "0",
          "0",
          "0",
          "0",
          "0",
          "0",
          "0",
          "0",
          "0",
          "0",
          "0",
          "0",
          "0",
          "0",
          "0",
          "0",
          "0",
          "0",
          "0",
          "0",
          "0",
          "0",
          "0",
          "0",
          "0",
          "0",
          "0",
          "0",
          "0",
          "0",
          "0",
          "0",
          "0",
          "0",
          "0",
          "0",
          "0",
          "0",
          "0",
          "0",
          "0",
          "0",
          "0",
          "0",
          "0",
          "0",
          "0",
          "0",
          "0",
          "0",
          "0",
          "0",
          "0",
          "0",
          "0",
          "0",
          "0",
          "0",
          "0",
          "0",
          "0",
          "0",
          "0",
          "0",
          "0",
          "0",
          "0",
          "0",
          "0",
          "0",
          "0",
          "0",
          "0",
          "0",
          "0",
          "0",
          "0",
          "0",
          "0",
          "0",
          "0",
          "0",
          "0",
          "0",
          "0",
          "0",
          "0",
          "0",
          "0",
          "0",
          "0",
          "0",
          "0",
          "0",
          "0",
          "0",
          "0",
          "0",
          "0",
          "0",
          "0",
          "0",
          "0",
          "0",
          "0",
          "0",
          "0",
          "0",
          "0",
          "0",
          "0",
          "0",
          "0",
          "0",
          "0",
          "0",
          "0",
          "0",
          "0",
          "0",
          "0",
          "0",
          "0",
          "0",
          "0",
          "0",
          "0",
          "0",
          "0",
          "0",
          "0",
          "0",
          "0",
          "0",
          "0",
          "0",
          "0",
          "0",
          "0",
          "0",
          "0",
          "0",
          "0",
          "0",
          "0",
          "0",
          "0",
          "0",
          "0",
          "0",
          "0",
          "0",
          "0",
          "0",
          "0",
          "0",
          "0",
          "0",
          "0",
          "0",
          "0",
          "0",
          "0",
          "0",
          "0",
          "0",
          "0",
          "0",
          "0",
          "0",
          "0",
          "0",
          "0",
          "0",
          "0",
          "0",
          "0",
          "0",
          "0",
          "0",
          "0",
          "0",
          "0",
          "0",
          "0",
          "0",
          "0",
          "0",
          "0",
          "0",
          "0",
          "0",
          "0",
          "0",
          "0",
          "0",
          "0",
          "0",
          "0",
          "0",
          "0",
          "0",
          "0",
          "0",
          "0",
          "0",
          "0",
          "0",
          "0",
          "0",
          "0",
          "0",
          "0",
          "0",
          "0",
          "0",
          "0",
          "0",
          "0",
          "0",
          "0",
          "0",
          "0",
          "0",
          "0",
          "0",
          "0",
          "0",
          "0",
          "0",
          "0",
          "0",
          "0",
          "0",
          "0",
          "0",
          "0",
          "0",
          "0",
          "0",
          "0",
          "0",
          "0",
          "0",
          "0",
          "0",
          "0",
          "0",
          "0",
          "0",
          "0",
          "0",
          "0",
          "0",
          "0",
          "0",
          "0",
          "0",
          "0",
          "0",
          "0",
          "0",
          "0",
          "0",
          "0",
          "0",
          "0",
          "0",
          "0",
          "0",
          "0",
          "0",
          "0",
          "0",
          "0",
          "0",
          "0",
          "0",
          "0",
          "0",
          "0",
          "0"
         ],
         "x0": " ",
         "xaxis": "x",
         "y": [
          36,
          33,
          36,
          36,
          32,
          34,
          29,
          28,
          25,
          24,
          26,
          24,
          19,
          22,
          21,
          24,
          25,
          26,
          34,
          31,
          24,
          20,
          23,
          26,
          25,
          20,
          19,
          15,
          13,
          12,
          14,
          14,
          18,
          12,
          12,
          22,
          16,
          15,
          19,
          20,
          22,
          19,
          18,
          19,
          15,
          18,
          20,
          21,
          18,
          17,
          17,
          15,
          16,
          16,
          16,
          15,
          14,
          12,
          12,
          12,
          11,
          10,
          8,
          8,
          9,
          10,
          12,
          28,
          29,
          27,
          23,
          29,
          29,
          28,
          26,
          31,
          38,
          42,
          48,
          34,
          26,
          55,
          47,
          48,
          48,
          34,
          29,
          25,
          25,
          12,
          15,
          15,
          9,
          8,
          9,
          18,
          30,
          29,
          22,
          27,
          27,
          52,
          188,
          191,
          185,
          181,
          188,
          29,
          181,
          23,
          204,
          33,
          184,
          189,
          30,
          171,
          65,
          197,
          183,
          167,
          166,
          164,
          32,
          181,
          177,
          56,
          39,
          175,
          161,
          157,
          156,
          163,
          205,
          156,
          161,
          166,
          150,
          158,
          164,
          174,
          199,
          110,
          172,
          196,
          170,
          150,
          155,
          192,
          153,
          154,
          191,
          153,
          187,
          80,
          187,
          77,
          25,
          75,
          23,
          23,
          72,
          20,
          18,
          17,
          75,
          73,
          67,
          66,
          64,
          145,
          233,
          61,
          165,
          228,
          227,
          139,
          162,
          127,
          123,
          115,
          106,
          21,
          19,
          20,
          83,
          18,
          90,
          99,
          15,
          13,
          11,
          12,
          10,
          8,
          9,
          86,
          93,
          97,
          97,
          105,
          214,
          34,
          36,
          48,
          30,
          34,
          26,
          25,
          25,
          23,
          22,
          18,
          17,
          10,
          14,
          14,
          16,
          15,
          15,
          85,
          83,
          14,
          115,
          116,
          9,
          10,
          110,
          8,
          111,
          85,
          73,
          72,
          72,
          106,
          67,
          60,
          54,
          57,
          51,
          43,
          36,
          35,
          30,
          43,
          42,
          45,
          43,
          39,
          38,
          37,
          36,
          35,
          38,
          41,
          40,
          39,
          33,
          30,
          31,
          27,
          26,
          25,
          24,
          25,
          24,
          23,
          23,
          27,
          22,
          20,
          19,
          19,
          23,
          23,
          27,
          28,
          38,
          27,
          23,
          23,
          21,
          20,
          19,
          20,
          30,
          55,
          28,
          27,
          16,
          15,
          24,
          48,
          123,
          110,
          117,
          117,
          107,
          113,
          117,
          115,
          60,
          21,
          20,
          17,
          15,
          17,
          52,
          48,
          50,
          50,
          50,
          47,
          46,
          50,
          43,
          44,
          48,
          43,
          48,
          44,
          44,
          45,
          43,
          42,
          42,
          96,
          95,
          94,
          92,
          90,
          86,
          81,
          82,
          78,
          69,
          76,
          80,
          83,
          28,
          82,
          25,
          25,
          18,
          17,
          16,
          14,
          14,
          11,
          10,
          9,
          8,
          9,
          8,
          11,
          12,
          66,
          64,
          63,
          63,
          62,
          61,
          56,
          54,
          50,
          48,
          46,
          37,
          36,
          35,
          34,
          42,
          41,
          39,
          37,
          29,
          26,
          20,
          23,
          25,
          24,
          31,
          29,
          32,
          28,
          29,
          29,
          30,
          29,
          23,
          26,
          26,
          25,
          23,
          21,
          20,
          18,
          19,
          18,
          16,
          18,
          20,
          19,
          15,
          16,
          16,
          15,
          15,
          13,
          12,
          13,
          12,
          11,
          10,
          9,
          8,
          8,
          8,
          8,
          8,
          15,
          15,
          14,
          19,
          19,
          25,
          37,
          29,
          28,
          34,
          38,
          37,
          35,
          31,
          27,
          21,
          31,
          30,
          96,
          29,
          28,
          27,
          22,
          91,
          90,
          89,
          88,
          87,
          86,
          85,
          84,
          54,
          48,
          48,
          54,
          55,
          78,
          77,
          76,
          75,
          74,
          73,
          72,
          71,
          46,
          43,
          68,
          67,
          66,
          65,
          27,
          63,
          62,
          61,
          60,
          59,
          58,
          57,
          56,
          55,
          54,
          53,
          52,
          51,
          50,
          49
         ],
         "y0": " ",
         "yaxis": "y"
        }
       ],
       "layout": {
        "boxmode": "group",
        "height": 800,
        "legend": {
         "tracegroupgap": 0
        },
        "margin": {
         "t": 60
        },
        "template": {
         "data": {
          "bar": [
           {
            "error_x": {
             "color": "#2a3f5f"
            },
            "error_y": {
             "color": "#2a3f5f"
            },
            "marker": {
             "line": {
              "color": "#E5ECF6",
              "width": 0.5
             },
             "pattern": {
              "fillmode": "overlay",
              "size": 10,
              "solidity": 0.2
             }
            },
            "type": "bar"
           }
          ],
          "barpolar": [
           {
            "marker": {
             "line": {
              "color": "#E5ECF6",
              "width": 0.5
             },
             "pattern": {
              "fillmode": "overlay",
              "size": 10,
              "solidity": 0.2
             }
            },
            "type": "barpolar"
           }
          ],
          "carpet": [
           {
            "aaxis": {
             "endlinecolor": "#2a3f5f",
             "gridcolor": "white",
             "linecolor": "white",
             "minorgridcolor": "white",
             "startlinecolor": "#2a3f5f"
            },
            "baxis": {
             "endlinecolor": "#2a3f5f",
             "gridcolor": "white",
             "linecolor": "white",
             "minorgridcolor": "white",
             "startlinecolor": "#2a3f5f"
            },
            "type": "carpet"
           }
          ],
          "choropleth": [
           {
            "colorbar": {
             "outlinewidth": 0,
             "ticks": ""
            },
            "type": "choropleth"
           }
          ],
          "contour": [
           {
            "colorbar": {
             "outlinewidth": 0,
             "ticks": ""
            },
            "colorscale": [
             [
              0,
              "#0d0887"
             ],
             [
              0.1111111111111111,
              "#46039f"
             ],
             [
              0.2222222222222222,
              "#7201a8"
             ],
             [
              0.3333333333333333,
              "#9c179e"
             ],
             [
              0.4444444444444444,
              "#bd3786"
             ],
             [
              0.5555555555555556,
              "#d8576b"
             ],
             [
              0.6666666666666666,
              "#ed7953"
             ],
             [
              0.7777777777777778,
              "#fb9f3a"
             ],
             [
              0.8888888888888888,
              "#fdca26"
             ],
             [
              1,
              "#f0f921"
             ]
            ],
            "type": "contour"
           }
          ],
          "contourcarpet": [
           {
            "colorbar": {
             "outlinewidth": 0,
             "ticks": ""
            },
            "type": "contourcarpet"
           }
          ],
          "heatmap": [
           {
            "colorbar": {
             "outlinewidth": 0,
             "ticks": ""
            },
            "colorscale": [
             [
              0,
              "#0d0887"
             ],
             [
              0.1111111111111111,
              "#46039f"
             ],
             [
              0.2222222222222222,
              "#7201a8"
             ],
             [
              0.3333333333333333,
              "#9c179e"
             ],
             [
              0.4444444444444444,
              "#bd3786"
             ],
             [
              0.5555555555555556,
              "#d8576b"
             ],
             [
              0.6666666666666666,
              "#ed7953"
             ],
             [
              0.7777777777777778,
              "#fb9f3a"
             ],
             [
              0.8888888888888888,
              "#fdca26"
             ],
             [
              1,
              "#f0f921"
             ]
            ],
            "type": "heatmap"
           }
          ],
          "heatmapgl": [
           {
            "colorbar": {
             "outlinewidth": 0,
             "ticks": ""
            },
            "colorscale": [
             [
              0,
              "#0d0887"
             ],
             [
              0.1111111111111111,
              "#46039f"
             ],
             [
              0.2222222222222222,
              "#7201a8"
             ],
             [
              0.3333333333333333,
              "#9c179e"
             ],
             [
              0.4444444444444444,
              "#bd3786"
             ],
             [
              0.5555555555555556,
              "#d8576b"
             ],
             [
              0.6666666666666666,
              "#ed7953"
             ],
             [
              0.7777777777777778,
              "#fb9f3a"
             ],
             [
              0.8888888888888888,
              "#fdca26"
             ],
             [
              1,
              "#f0f921"
             ]
            ],
            "type": "heatmapgl"
           }
          ],
          "histogram": [
           {
            "marker": {
             "pattern": {
              "fillmode": "overlay",
              "size": 10,
              "solidity": 0.2
             }
            },
            "type": "histogram"
           }
          ],
          "histogram2d": [
           {
            "colorbar": {
             "outlinewidth": 0,
             "ticks": ""
            },
            "colorscale": [
             [
              0,
              "#0d0887"
             ],
             [
              0.1111111111111111,
              "#46039f"
             ],
             [
              0.2222222222222222,
              "#7201a8"
             ],
             [
              0.3333333333333333,
              "#9c179e"
             ],
             [
              0.4444444444444444,
              "#bd3786"
             ],
             [
              0.5555555555555556,
              "#d8576b"
             ],
             [
              0.6666666666666666,
              "#ed7953"
             ],
             [
              0.7777777777777778,
              "#fb9f3a"
             ],
             [
              0.8888888888888888,
              "#fdca26"
             ],
             [
              1,
              "#f0f921"
             ]
            ],
            "type": "histogram2d"
           }
          ],
          "histogram2dcontour": [
           {
            "colorbar": {
             "outlinewidth": 0,
             "ticks": ""
            },
            "colorscale": [
             [
              0,
              "#0d0887"
             ],
             [
              0.1111111111111111,
              "#46039f"
             ],
             [
              0.2222222222222222,
              "#7201a8"
             ],
             [
              0.3333333333333333,
              "#9c179e"
             ],
             [
              0.4444444444444444,
              "#bd3786"
             ],
             [
              0.5555555555555556,
              "#d8576b"
             ],
             [
              0.6666666666666666,
              "#ed7953"
             ],
             [
              0.7777777777777778,
              "#fb9f3a"
             ],
             [
              0.8888888888888888,
              "#fdca26"
             ],
             [
              1,
              "#f0f921"
             ]
            ],
            "type": "histogram2dcontour"
           }
          ],
          "mesh3d": [
           {
            "colorbar": {
             "outlinewidth": 0,
             "ticks": ""
            },
            "type": "mesh3d"
           }
          ],
          "parcoords": [
           {
            "line": {
             "colorbar": {
              "outlinewidth": 0,
              "ticks": ""
             }
            },
            "type": "parcoords"
           }
          ],
          "pie": [
           {
            "automargin": true,
            "type": "pie"
           }
          ],
          "scatter": [
           {
            "marker": {
             "colorbar": {
              "outlinewidth": 0,
              "ticks": ""
             }
            },
            "type": "scatter"
           }
          ],
          "scatter3d": [
           {
            "line": {
             "colorbar": {
              "outlinewidth": 0,
              "ticks": ""
             }
            },
            "marker": {
             "colorbar": {
              "outlinewidth": 0,
              "ticks": ""
             }
            },
            "type": "scatter3d"
           }
          ],
          "scattercarpet": [
           {
            "marker": {
             "colorbar": {
              "outlinewidth": 0,
              "ticks": ""
             }
            },
            "type": "scattercarpet"
           }
          ],
          "scattergeo": [
           {
            "marker": {
             "colorbar": {
              "outlinewidth": 0,
              "ticks": ""
             }
            },
            "type": "scattergeo"
           }
          ],
          "scattergl": [
           {
            "marker": {
             "colorbar": {
              "outlinewidth": 0,
              "ticks": ""
             }
            },
            "type": "scattergl"
           }
          ],
          "scattermapbox": [
           {
            "marker": {
             "colorbar": {
              "outlinewidth": 0,
              "ticks": ""
             }
            },
            "type": "scattermapbox"
           }
          ],
          "scatterpolar": [
           {
            "marker": {
             "colorbar": {
              "outlinewidth": 0,
              "ticks": ""
             }
            },
            "type": "scatterpolar"
           }
          ],
          "scatterpolargl": [
           {
            "marker": {
             "colorbar": {
              "outlinewidth": 0,
              "ticks": ""
             }
            },
            "type": "scatterpolargl"
           }
          ],
          "scatterternary": [
           {
            "marker": {
             "colorbar": {
              "outlinewidth": 0,
              "ticks": ""
             }
            },
            "type": "scatterternary"
           }
          ],
          "surface": [
           {
            "colorbar": {
             "outlinewidth": 0,
             "ticks": ""
            },
            "colorscale": [
             [
              0,
              "#0d0887"
             ],
             [
              0.1111111111111111,
              "#46039f"
             ],
             [
              0.2222222222222222,
              "#7201a8"
             ],
             [
              0.3333333333333333,
              "#9c179e"
             ],
             [
              0.4444444444444444,
              "#bd3786"
             ],
             [
              0.5555555555555556,
              "#d8576b"
             ],
             [
              0.6666666666666666,
              "#ed7953"
             ],
             [
              0.7777777777777778,
              "#fb9f3a"
             ],
             [
              0.8888888888888888,
              "#fdca26"
             ],
             [
              1,
              "#f0f921"
             ]
            ],
            "type": "surface"
           }
          ],
          "table": [
           {
            "cells": {
             "fill": {
              "color": "#EBF0F8"
             },
             "line": {
              "color": "white"
             }
            },
            "header": {
             "fill": {
              "color": "#C8D4E3"
             },
             "line": {
              "color": "white"
             }
            },
            "type": "table"
           }
          ]
         },
         "layout": {
          "annotationdefaults": {
           "arrowcolor": "#2a3f5f",
           "arrowhead": 0,
           "arrowwidth": 1
          },
          "autotypenumbers": "strict",
          "coloraxis": {
           "colorbar": {
            "outlinewidth": 0,
            "ticks": ""
           }
          },
          "colorscale": {
           "diverging": [
            [
             0,
             "#8e0152"
            ],
            [
             0.1,
             "#c51b7d"
            ],
            [
             0.2,
             "#de77ae"
            ],
            [
             0.3,
             "#f1b6da"
            ],
            [
             0.4,
             "#fde0ef"
            ],
            [
             0.5,
             "#f7f7f7"
            ],
            [
             0.6,
             "#e6f5d0"
            ],
            [
             0.7,
             "#b8e186"
            ],
            [
             0.8,
             "#7fbc41"
            ],
            [
             0.9,
             "#4d9221"
            ],
            [
             1,
             "#276419"
            ]
           ],
           "sequential": [
            [
             0,
             "#0d0887"
            ],
            [
             0.1111111111111111,
             "#46039f"
            ],
            [
             0.2222222222222222,
             "#7201a8"
            ],
            [
             0.3333333333333333,
             "#9c179e"
            ],
            [
             0.4444444444444444,
             "#bd3786"
            ],
            [
             0.5555555555555556,
             "#d8576b"
            ],
            [
             0.6666666666666666,
             "#ed7953"
            ],
            [
             0.7777777777777778,
             "#fb9f3a"
            ],
            [
             0.8888888888888888,
             "#fdca26"
            ],
            [
             1,
             "#f0f921"
            ]
           ],
           "sequentialminus": [
            [
             0,
             "#0d0887"
            ],
            [
             0.1111111111111111,
             "#46039f"
            ],
            [
             0.2222222222222222,
             "#7201a8"
            ],
            [
             0.3333333333333333,
             "#9c179e"
            ],
            [
             0.4444444444444444,
             "#bd3786"
            ],
            [
             0.5555555555555556,
             "#d8576b"
            ],
            [
             0.6666666666666666,
             "#ed7953"
            ],
            [
             0.7777777777777778,
             "#fb9f3a"
            ],
            [
             0.8888888888888888,
             "#fdca26"
            ],
            [
             1,
             "#f0f921"
            ]
           ]
          },
          "colorway": [
           "#636efa",
           "#EF553B",
           "#00cc96",
           "#ab63fa",
           "#FFA15A",
           "#19d3f3",
           "#FF6692",
           "#B6E880",
           "#FF97FF",
           "#FECB52"
          ],
          "font": {
           "color": "#2a3f5f"
          },
          "geo": {
           "bgcolor": "white",
           "lakecolor": "white",
           "landcolor": "#E5ECF6",
           "showlakes": true,
           "showland": true,
           "subunitcolor": "white"
          },
          "hoverlabel": {
           "align": "left"
          },
          "hovermode": "closest",
          "mapbox": {
           "style": "light"
          },
          "paper_bgcolor": "white",
          "plot_bgcolor": "#E5ECF6",
          "polar": {
           "angularaxis": {
            "gridcolor": "white",
            "linecolor": "white",
            "ticks": ""
           },
           "bgcolor": "#E5ECF6",
           "radialaxis": {
            "gridcolor": "white",
            "linecolor": "white",
            "ticks": ""
           }
          },
          "scene": {
           "xaxis": {
            "backgroundcolor": "#E5ECF6",
            "gridcolor": "white",
            "gridwidth": 2,
            "linecolor": "white",
            "showbackground": true,
            "ticks": "",
            "zerolinecolor": "white"
           },
           "yaxis": {
            "backgroundcolor": "#E5ECF6",
            "gridcolor": "white",
            "gridwidth": 2,
            "linecolor": "white",
            "showbackground": true,
            "ticks": "",
            "zerolinecolor": "white"
           },
           "zaxis": {
            "backgroundcolor": "#E5ECF6",
            "gridcolor": "white",
            "gridwidth": 2,
            "linecolor": "white",
            "showbackground": true,
            "ticks": "",
            "zerolinecolor": "white"
           }
          },
          "shapedefaults": {
           "line": {
            "color": "#2a3f5f"
           }
          },
          "ternary": {
           "aaxis": {
            "gridcolor": "white",
            "linecolor": "white",
            "ticks": ""
           },
           "baxis": {
            "gridcolor": "white",
            "linecolor": "white",
            "ticks": ""
           },
           "bgcolor": "#E5ECF6",
           "caxis": {
            "gridcolor": "white",
            "linecolor": "white",
            "ticks": ""
           }
          },
          "title": {
           "x": 0.05
          },
          "xaxis": {
           "automargin": true,
           "gridcolor": "white",
           "linecolor": "white",
           "ticks": "",
           "title": {
            "standoff": 15
           },
           "zerolinecolor": "white",
           "zerolinewidth": 2
          },
          "yaxis": {
           "automargin": true,
           "gridcolor": "white",
           "linecolor": "white",
           "ticks": "",
           "title": {
            "standoff": 15
           },
           "zerolinecolor": "white",
           "zerolinewidth": 2
          }
         }
        },
        "width": 400,
        "xaxis": {
         "anchor": "y",
         "autorange": true,
         "domain": [
          0,
          1
         ],
         "range": [
          -0.5,
          0.5
         ],
         "title": {
          "text": "variable"
         },
         "type": "category"
        },
        "yaxis": {
         "anchor": "x",
         "autorange": true,
         "domain": [
          0,
          1
         ],
         "range": [
          -4.5,
          245.5
         ],
         "title": {
          "text": "value"
         },
         "type": "linear"
        }
       }
      },
      "image/png": "[encoded data removed]",
      "text/html": [
       "<div>                            <div id=\"e83d6200-6f1d-4f38-b9c5-ad6e85944025\" class=\"plotly-graph-div\" style=\"height:800px; width:400px;\"></div>            <script type=\"text/javascript\">                require([\"plotly\"], function(Plotly) {                    window.PLOTLYENV=window.PLOTLYENV || {};                                    if (document.getElementById(\"e83d6200-6f1d-4f38-b9c5-ad6e85944025\")) {                    Plotly.newPlot(                        \"e83d6200-6f1d-4f38-b9c5-ad6e85944025\",                        [{\"alignmentgroup\":\"True\",\"hovertemplate\":\"variable=%{x}<br>value=%{y}<extra></extra>\",\"legendgroup\":\"\",\"marker\":{\"color\":\"orange\"},\"name\":\"\",\"notched\":false,\"offsetgroup\":\"\",\"orientation\":\"v\",\"showlegend\":false,\"x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x0\":\" \",\"xaxis\":\"x\",\"y\":[36,33,36,36,32,34,29,28,25,24,26,24,19,22,21,24,25,26,34,31,24,20,23,26,25,20,19,15,13,12,14,14,18,12,12,22,16,15,19,20,22,19,18,19,15,18,20,21,18,17,17,15,16,16,16,15,14,12,12,12,11,10,8,8,9,10,12,28,29,27,23,29,29,28,26,31,38,42,48,34,26,55,47,48,48,34,29,25,25,12,15,15,9,8,9,18,30,29,22,27,27,52,188,191,185,181,188,29,181,23,204,33,184,189,30,171,65,197,183,167,166,164,32,181,177,56,39,175,161,157,156,163,205,156,161,166,150,158,164,174,199,110,172,196,170,150,155,192,153,154,191,153,187,80,187,77,25,75,23,23,72,20,18,17,75,73,67,66,64,145,233,61,165,228,227,139,162,127,123,115,106,21,19,20,83,18,90,99,15,13,11,12,10,8,9,86,93,97,97,105,214,34,36,48,30,34,26,25,25,23,22,18,17,10,14,14,16,15,15,85,83,14,115,116,9,10,110,8,111,85,73,72,72,106,67,60,54,57,51,43,36,35,30,43,42,45,43,39,38,37,36,35,38,41,40,39,33,30,31,27,26,25,24,25,24,23,23,27,22,20,19,19,23,23,27,28,38,27,23,23,21,20,19,20,30,55,28,27,16,15,24,48,123,110,117,117,107,113,117,115,60,21,20,17,15,17,52,48,50,50,50,47,46,50,43,44,48,43,48,44,44,45,43,42,42,96,95,94,92,90,86,81,82,78,69,76,80,83,28,82,25,25,18,17,16,14,14,11,10,9,8,9,8,11,12,66,64,63,63,62,61,56,54,50,48,46,37,36,35,34,42,41,39,37,29,26,20,23,25,24,31,29,32,28,29,29,30,29,23,26,26,25,23,21,20,18,19,18,16,18,20,19,15,16,16,15,15,13,12,13,12,11,10,9,8,8,8,8,8,15,15,14,19,19,25,37,29,28,34,38,37,35,31,27,21,31,30,96,29,28,27,22,91,90,89,88,87,86,85,84,54,48,48,54,55,78,77,76,75,74,73,72,71,46,43,68,67,66,65,27,63,62,61,60,59,58,57,56,55,54,53,52,51,50,49],\"y0\":\" \",\"yaxis\":\"y\",\"type\":\"box\",\"line\":{\"color\":\"darkorange\"}}],                        {\"template\":{\"data\":{\"bar\":[{\"error_x\":{\"color\":\"#2a3f5f\"},\"error_y\":{\"color\":\"#2a3f5f\"},\"marker\":{\"line\":{\"color\":\"#E5ECF6\",\"width\":0.5},\"pattern\":{\"fillmode\":\"overlay\",\"size\":10,\"solidity\":0.2}},\"type\":\"bar\"}],\"barpolar\":[{\"marker\":{\"line\":{\"color\":\"#E5ECF6\",\"width\":0.5},\"pattern\":{\"fillmode\":\"overlay\",\"size\":10,\"solidity\":0.2}},\"type\":\"barpolar\"}],\"carpet\":[{\"aaxis\":{\"endlinecolor\":\"#2a3f5f\",\"gridcolor\":\"white\",\"linecolor\":\"white\",\"minorgridcolor\":\"white\",\"startlinecolor\":\"#2a3f5f\"},\"baxis\":{\"endlinecolor\":\"#2a3f5f\",\"gridcolor\":\"white\",\"linecolor\":\"white\",\"minorgridcolor\":\"white\",\"startlinecolor\":\"#2a3f5f\"},\"type\":\"carpet\"}],\"choropleth\":[{\"colorbar\":{\"outlinewidth\":0,\"ticks\":\"\"},\"type\":\"choropleth\"}],\"contour\":[{\"colorbar\":{\"outlinewidth\":0,\"ticks\":\"\"},\"colorscale\":[[0.0,\"#0d0887\"],[0.1111111111111111,\"#46039f\"],[0.2222222222222222,\"#7201a8\"],[0.3333333333333333,\"#9c179e\"],[0.4444444444444444,\"#bd3786\"],[0.5555555555555556,\"#d8576b\"],[0.6666666666666666,\"#ed7953\"],[0.7777777777777778,\"#fb9f3a\"],[0.8888888888888888,\"#fdca26\"],[1.0,\"#f0f921\"]],\"type\":\"contour\"}],\"contourcarpet\":[{\"colorbar\":{\"outlinewidth\":0,\"ticks\":\"\"},\"type\":\"contourcarpet\"}],\"heatmap\":[{\"colorbar\":{\"outlinewidth\":0,\"ticks\":\"\"},\"colorscale\":[[0.0,\"#0d0887\"],[0.1111111111111111,\"#46039f\"],[0.2222222222222222,\"#7201a8\"],[0.3333333333333333,\"#9c179e\"],[0.4444444444444444,\"#bd3786\"],[0.5555555555555556,\"#d8576b\"],[0.6666666666666666,\"#ed7953\"],[0.7777777777777778,\"#fb9f3a\"],[0.8888888888888888,\"#fdca26\"],[1.0,\"#f0f921\"]],\"type\":\"heatmap\"}],\"heatmapgl\":[{\"colorbar\":{\"outlinewidth\":0,\"ticks\":\"\"},\"colorscale\":[[0.0,\"#0d0887\"],[0.1111111111111111,\"#46039f\"],[0.2222222222222222,\"#7201a8\"],[0.3333333333333333,\"#9c179e\"],[0.4444444444444444,\"#bd3786\"],[0.5555555555555556,\"#d8576b\"],[0.6666666666666666,\"#ed7953\"],[0.7777777777777778,\"#fb9f3a\"],[0.8888888888888888,\"#fdca26\"],[1.0,\"#f0f921\"]],\"type\":\"heatmapgl\"}],\"histogram\":[{\"marker\":{\"pattern\":{\"fillmode\":\"overlay\",\"size\":10,\"solidity\":0.2}},\"type\":\"histogram\"}],\"histogram2d\":[{\"colorbar\":{\"outlinewidth\":0,\"ticks\":\"\"},\"colorscale\":[[0.0,\"#0d0887\"],[0.1111111111111111,\"#46039f\"],[0.2222222222222222,\"#7201a8\"],[0.3333333333333333,\"#9c179e\"],[0.4444444444444444,\"#bd3786\"],[0.5555555555555556,\"#d8576b\"],[0.6666666666666666,\"#ed7953\"],[0.7777777777777778,\"#fb9f3a\"],[0.8888888888888888,\"#fdca26\"],[1.0,\"#f0f921\"]],\"type\":\"histogram2d\"}],\"histogram2dcontour\":[{\"colorbar\":{\"outlinewidth\":0,\"ticks\":\"\"},\"colorscale\":[[0.0,\"#0d0887\"],[0.1111111111111111,\"#46039f\"],[0.2222222222222222,\"#7201a8\"],[0.3333333333333333,\"#9c179e\"],[0.4444444444444444,\"#bd3786\"],[0.5555555555555556,\"#d8576b\"],[0.6666666666666666,\"#ed7953\"],[0.7777777777777778,\"#fb9f3a\"],[0.8888888888888888,\"#fdca26\"],[1.0,\"#f0f921\"]],\"type\":\"histogram2dcontour\"}],\"mesh3d\":[{\"colorbar\":{\"outlinewidth\":0,\"ticks\":\"\"},\"type\":\"mesh3d\"}],\"parcoords\":[{\"line\":{\"colorbar\":{\"outlinewidth\":0,\"ticks\":\"\"}},\"type\":\"parcoords\"}],\"pie\":[{\"automargin\":true,\"type\":\"pie\"}],\"scatter\":[{\"marker\":{\"colorbar\":{\"outlinewidth\":0,\"ticks\":\"\"}},\"type\":\"scatter\"}],\"scatter3d\":[{\"line\":{\"colorbar\":{\"outlinewidth\":0,\"ticks\":\"\"}},\"marker\":{\"colorbar\":{\"outlinewidth\":0,\"ticks\":\"\"}},\"type\":\"scatter3d\"}],\"scattercarpet\":[{\"marker\":{\"colorbar\":{\"outlinewidth\":0,\"ticks\":\"\"}},\"type\":\"scattercarpet\"}],\"scattergeo\":[{\"marker\":{\"colorbar\":{\"outlinewidth\":0,\"ticks\":\"\"}},\"type\":\"scattergeo\"}],\"scattergl\":[{\"marker\":{\"colorbar\":{\"outlinewidth\":0,\"ticks\":\"\"}},\"type\":\"scattergl\"}],\"scattermapbox\":[{\"marker\":{\"colorbar\":{\"outlinewidth\":0,\"ticks\":\"\"}},\"type\":\"scattermapbox\"}],\"scatterpolar\":[{\"marker\":{\"colorbar\":{\"outlinewidth\":0,\"ticks\":\"\"}},\"type\":\"scatterpolar\"}],\"scatterpolargl\":[{\"marker\":{\"colorbar\":{\"outlinewidth\":0,\"ticks\":\"\"}},\"type\":\"scatterpolargl\"}],\"scatterternary\":[{\"marker\":{\"colorbar\":{\"outlinewidth\":0,\"ticks\":\"\"}},\"type\":\"scatterternary\"}],\"surface\":[{\"colorbar\":{\"outlinewidth\":0,\"ticks\":\"\"},\"colorscale\":[[0.0,\"#0d0887\"],[0.1111111111111111,\"#46039f\"],[0.2222222222222222,\"#7201a8\"],[0.3333333333333333,\"#9c179e\"],[0.4444444444444444,\"#bd3786\"],[0.5555555555555556,\"#d8576b\"],[0.6666666666666666,\"#ed7953\"],[0.7777777777777778,\"#fb9f3a\"],[0.8888888888888888,\"#fdca26\"],[1.0,\"#f0f921\"]],\"type\":\"surface\"}],\"table\":[{\"cells\":{\"fill\":{\"color\":\"#EBF0F8\"},\"line\":{\"color\":\"white\"}},\"header\":{\"fill\":{\"color\":\"#C8D4E3\"},\"line\":{\"color\":\"white\"}},\"type\":\"table\"}]},\"layout\":{\"annotationdefaults\":{\"arrowcolor\":\"#2a3f5f\",\"arrowhead\":0,\"arrowwidth\":1},\"autotypenumbers\":\"strict\",\"coloraxis\":{\"colorbar\":{\"outlinewidth\":0,\"ticks\":\"\"}},\"colorscale\":{\"diverging\":[[0,\"#8e0152\"],[0.1,\"#c51b7d\"],[0.2,\"#de77ae\"],[0.3,\"#f1b6da\"],[0.4,\"#fde0ef\"],[0.5,\"#f7f7f7\"],[0.6,\"#e6f5d0\"],[0.7,\"#b8e186\"],[0.8,\"#7fbc41\"],[0.9,\"#4d9221\"],[1,\"#276419\"]],\"sequential\":[[0.0,\"#0d0887\"],[0.1111111111111111,\"#46039f\"],[0.2222222222222222,\"#7201a8\"],[0.3333333333333333,\"#9c179e\"],[0.4444444444444444,\"#bd3786\"],[0.5555555555555556,\"#d8576b\"],[0.6666666666666666,\"#ed7953\"],[0.7777777777777778,\"#fb9f3a\"],[0.8888888888888888,\"#fdca26\"],[1.0,\"#f0f921\"]],\"sequentialminus\":[[0.0,\"#0d0887\"],[0.1111111111111111,\"#46039f\"],[0.2222222222222222,\"#7201a8\"],[0.3333333333333333,\"#9c179e\"],[0.4444444444444444,\"#bd3786\"],[0.5555555555555556,\"#d8576b\"],[0.6666666666666666,\"#ed7953\"],[0.7777777777777778,\"#fb9f3a\"],[0.8888888888888888,\"#fdca26\"],[1.0,\"#f0f921\"]]},\"colorway\":[\"#636efa\",\"#EF553B\",\"#00cc96\",\"#ab63fa\",\"#FFA15A\",\"#19d3f3\",\"#FF6692\",\"#B6E880\",\"#FF97FF\",\"#FECB52\"],\"font\":{\"color\":\"#2a3f5f\"},\"geo\":{\"bgcolor\":\"white\",\"lakecolor\":\"white\",\"landcolor\":\"#E5ECF6\",\"showlakes\":true,\"showland\":true,\"subunitcolor\":\"white\"},\"hoverlabel\":{\"align\":\"left\"},\"hovermode\":\"closest\",\"mapbox\":{\"style\":\"light\"},\"paper_bgcolor\":\"white\",\"plot_bgcolor\":\"#E5ECF6\",\"polar\":{\"angularaxis\":{\"gridcolor\":\"white\",\"linecolor\":\"white\",\"ticks\":\"\"},\"bgcolor\":\"#E5ECF6\",\"radialaxis\":{\"gridcolor\":\"white\",\"linecolor\":\"white\",\"ticks\":\"\"}},\"scene\":{\"xaxis\":{\"backgroundcolor\":\"#E5ECF6\",\"gridcolor\":\"white\",\"gridwidth\":2,\"linecolor\":\"white\",\"showbackground\":true,\"ticks\":\"\",\"zerolinecolor\":\"white\"},\"yaxis\":{\"backgroundcolor\":\"#E5ECF6\",\"gridcolor\":\"white\",\"gridwidth\":2,\"linecolor\":\"white\",\"showbackground\":true,\"ticks\":\"\",\"zerolinecolor\":\"white\"},\"zaxis\":{\"backgroundcolor\":\"#E5ECF6\",\"gridcolor\":\"white\",\"gridwidth\":2,\"linecolor\":\"white\",\"showbackground\":true,\"ticks\":\"\",\"zerolinecolor\":\"white\"}},\"shapedefaults\":{\"line\":{\"color\":\"#2a3f5f\"}},\"ternary\":{\"aaxis\":{\"gridcolor\":\"white\",\"linecolor\":\"white\",\"ticks\":\"\"},\"baxis\":{\"gridcolor\":\"white\",\"linecolor\":\"white\",\"ticks\":\"\"},\"bgcolor\":\"#E5ECF6\",\"caxis\":{\"gridcolor\":\"white\",\"linecolor\":\"white\",\"ticks\":\"\"}},\"title\":{\"x\":0.05},\"xaxis\":{\"automargin\":true,\"gridcolor\":\"white\",\"linecolor\":\"white\",\"ticks\":\"\",\"title\":{\"standoff\":15},\"zerolinecolor\":\"white\",\"zerolinewidth\":2},\"yaxis\":{\"automargin\":true,\"gridcolor\":\"white\",\"linecolor\":\"white\",\"ticks\":\"\",\"title\":{\"standoff\":15},\"zerolinecolor\":\"white\",\"zerolinewidth\":2}}},\"xaxis\":{\"anchor\":\"y\",\"domain\":[0.0,1.0],\"title\":{\"text\":\"variable\"}},\"yaxis\":{\"anchor\":\"x\",\"domain\":[0.0,1.0],\"title\":{\"text\":\"value\"}},\"legend\":{\"tracegroupgap\":0},\"margin\":{\"t\":60},\"boxmode\":\"group\",\"height\":800,\"width\":400},                        {\"responsive\": true}                    ).then(function(){\n",
       "                            \n",
       "var gd = document.getElementById('e83d6200-6f1d-4f38-b9c5-ad6e85944025');\n",
       "var x = new MutationObserver(function (mutations, observer) {{\n",
       "        var display = window.getComputedStyle(gd).display;\n",
       "        if (!display || display === 'none') {{\n",
       "            console.log([gd, 'removed!']);\n",
       "            Plotly.purge(gd);\n",
       "            observer.disconnect();\n",
       "        }}\n",
       "}});\n",
       "\n",
       "// Listen for the removal of the full notebook cells\n",
       "var notebookContainer = gd.closest('#notebook-container');\n",
       "if (notebookContainer) {{\n",
       "    x.observe(notebookContainer, {childList: true});\n",
       "}}\n",
       "\n",
       "// Listen for the clearing of the current output cell\n",
       "var outputEl = gd.closest('.output');\n",
       "if (outputEl) {{\n",
       "    x.observe(outputEl, {childList: true});\n",
       "}}\n",
       "\n",
       "                        })                };                });            </script>        </div>"
      ]
     },
     "metadata": {},
     "output_type": "display_data"
    },
    {
     "data": {
      "text/plain": [
       "<Figure size 720x360 with 0 Axes>"
      ]
     },
     "metadata": {},
     "output_type": "display_data"
    }
   ],
   "source": [
    "import plotly.express as px\n",
    "fig = plt.figure(figsize=(10,5))\n",
    "\n",
    "fig = px.box(correct_pred, width=400, height=800)\n",
    "\n",
    "# Mise à jour de la couleur du tracé\n",
    "fig.update_traces(marker_color='orange', line_color='darkorange')\n",
    "\n",
    "\n",
    "# Affichage de la figure\n",
    "fig.show()"
   ]
  },
  {
   "cell_type": "code",
   "execution_count": 74,
   "id": "11077169-1081-4229-8e3d-fc8fa04ad05d",
   "metadata": {},
   "outputs": [
    {
     "name": "stdout",
     "output_type": "stream",
     "text": [
      "8 à 18 ans:     2.4742268041237114 %\n",
      "8 à 18 ans:     32.577319587628864 %\n"
     ]
    }
   ],
   "source": [
    "r=np.array(correct_pred)\n",
    "print(\"8 à 18 ans:    \",np.count_nonzero((r > 0)  & (r <= 8)) /len(r)*100,\"%\")\n",
    "print(\"8 à 18 ans:    \",np.count_nonzero((r > np.mean(correct_pred))) /len(r)*100,\"%\")"
   ]
  },
  {
   "cell_type": "code",
   "execution_count": 75,
   "id": "0b7ce28d-f149-4a27-b7c5-4eaf6ee6b83a",
   "metadata": {},
   "outputs": [
    {
     "data": {
      "image/png": "[encoded data removed]",
      "text/plain": [
       "<Figure size 432x288 with 1 Axes>"
      ]
     },
     "metadata": {
      "needs_background": "light"
     },
     "output_type": "display_data"
    }
   ],
   "source": [
    "plt.hist(correct_pred, bins='auto')\n",
    "plt.title('Distribution of correct forecast')\n",
    "plt.xlabel('Nb of years correctly forcasted')\n",
    "plt.ylabel('Frequency')\n",
    "plt.grid(True)\n",
    "plt.show()"
   ]
  },
  {
   "cell_type": "code",
   "execution_count": 76,
   "id": "08cfcf9d-8cc1-4f89-b530-314554e370a7",
   "metadata": {},
   "outputs": [
    {
     "data": {
      "image/png": "[encoded data removed]",
      "text/plain": [
       "<Figure size 432x288 with 1 Axes>"
      ]
     },
     "metadata": {
      "needs_background": "light"
     },
     "output_type": "display_data"
    }
   ],
   "source": [
    "plt.plot(correct_pred)\n",
    "plt.title('Repartitions of the correct forecast')\n",
    "plt.xlabel('Nb of years correctly forcasted')\n",
    "plt.ylabel('Train len from 60 to ...')\n",
    "plt.grid(True)\n",
    "plt.show()"
   ]
  },
  {
   "cell_type": "code",
   "execution_count": null,
   "id": "76b5b9de-b9c2-4c43-806b-0bc27219f681",
   "metadata": {},
   "outputs": [],
   "source": []
  },
  {
   "cell_type": "code",
   "execution_count": null,
   "id": "39aebadc-e844-4493-8bd3-0be4bee77a37",
   "metadata": {},
   "outputs": [],
   "source": []
  },
  {
   "cell_type": "code",
   "execution_count": null,
   "id": "9ed86a25-c359-4346-9b6e-eced2197d4b4",
   "metadata": {},
   "outputs": [],
   "source": []
  },
  {
   "cell_type": "code",
   "execution_count": null,
   "id": "334b4a7c-df1c-4563-8ce7-adb9efbc1cc5",
   "metadata": {},
   "outputs": [],
   "source": []
  }
 ],
 "metadata": {
  "kernelspec": {
   "display_name": "pytorch-gpu-1.10.1_py3.9.7",
   "language": "python",
   "name": "module-conda-env-pytorch-gpu-1.10.1_py3.9.7"
  },
  "language_info": {
   "codemirror_mode": {
    "name": "ipython",
    "version": 3
   },
   "file_extension": ".py",
   "mimetype": "text/x-python",
   "name": "python",
   "nbconvert_exporter": "python",
   "pygments_lexer": "ipython3",
   "version": "3.9.7"
  }
 },
 "nbformat": 4,
 "nbformat_minor": 5
}