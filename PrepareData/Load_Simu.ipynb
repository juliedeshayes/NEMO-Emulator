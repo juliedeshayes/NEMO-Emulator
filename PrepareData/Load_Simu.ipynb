{
 "cells": [
  {
   "cell_type": "code",
   "execution_count": 74,
   "id": "81a08616-9862-45d2-a648-0a27a77de5d0",
   "metadata": {},
   "outputs": [
    {
     "data": {
      "text/plain": [
       "<module 'prepare' from '/gpfswork/rech/omr/uen17sn/NewSpinUp/lib/prepare.py'>"
      ]
     },
     "execution_count": 74,
     "metadata": {},
     "output_type": "execute_result"
    }
   ],
   "source": [
    "import json\n",
    "import pickle\n",
    "import numpy as np\n",
    "import sys \n",
    "import xarray as xr\n",
    "import matplotlib.pyplot as plt\n",
    "sys.path.insert(0, \"/gpfswork/rech/omr/uen17sn/NewSpinUp/lib\")\n",
    "import prepare\n",
    "\n",
    "import importlib\n",
    "importlib.reload(prepare)"
   ]
  },
  {
   "cell_type": "code",
   "execution_count": 75,
   "id": "87baae43-80c0-4645-92a7-1a46d1059cef",
   "metadata": {},
   "outputs": [],
   "source": [
    "#import importlib\n",
    "#importlib.reload(prepare)"
   ]
  },
  {
   "cell_type": "markdown",
   "id": "bc27d700-4b99-4111-96e4-3ad7e222d3c0",
   "metadata": {},
   "source": [
    "## **Load Data**"
   ]
  },
  {
   "cell_type": "markdown",
   "id": "91115bec-3cba-47dd-98e8-1ff27d07c1ce",
   "metadata": {
    "tags": []
   },
   "source": [
    "### 1.1 - Parameters"
   ]
  },
  {
   "cell_type": "code",
   "execution_count": 76,
   "id": "caa85606-27fd-4383-9d9a-00f9b7d5f6da",
   "metadata": {},
   "outputs": [],
   "source": [
    "from simu_path import path13 \n",
    "path       = path13                 #simupath\n",
    "time_dim   = \"time_counter\"        #time axis : generaly \"time_counter\" or \"time\" \n",
    "grid_term  = [\"zos.nc\"]            #grid  #grid_T.nc... or feature \"MSFT.nc\",\"zos.nc\"...  \n",
    "simu_param = [\"-\"]                 #whatever distinguish the param/model used it when they are diff simu in same folder\n",
    "simu_nb    = 113              \n",
    "to_yearly  = False\n",
    "cut_simu   = 25                    #currents = 0 take the stab year\n",
    "pca_comp   = 0.9                   #if pca_comp < 1 explain ratio else nb of components taken\n",
    "ssca       = False\n",
    "\n",
    "if to_yearly==False: \n",
    "    cut_simu = cut_simu*12\n",
    "                                                       #cut_simu      PCACOMP = 0."
   ]
  },
  {
   "cell_type": "markdown",
   "id": "b4d88441-f745-4812-8112-2eaee87f31a8",
   "metadata": {},
   "source": [
    "### 1.2 - Load files"
   ]
  },
  {
   "cell_type": "code",
   "execution_count": 77,
   "id": "39d46dfc-64bc-4736-949b-ff3f804a1c1b",
   "metadata": {},
   "outputs": [
    {
     "name": "stdout",
     "output_type": "stream",
     "text": [
      "Nb of grid  : 1\n",
      "Nb of files : 2\n"
     ]
    }
   ],
   "source": [
    "data = prepare.getData(path  = path,\n",
    "                       term  = grid_term,\n",
    "                       param = simu_param[0])\n",
    "\n",
    "print(f\"Nb of grid  :\", len(data))\n",
    "print(f\"Nb of files :\", len(data[grid_term[0]]))"
   ]
  },
  {
   "cell_type": "code",
   "execution_count": 78,
   "id": "e22a6624-015c-420b-8c93-bcdd39da124a",
   "metadata": {},
   "outputs": [
    {
     "data": {
      "text/plain": [
       "{'zos.nc': ['/gpfsdsmnt/ipsl/dods/pub/ues27zx/IPSLCM6/DEVT/piControl/CM65Work-Spinup-Namelist-1/OCE/Analyse/TS_MO/CM65Work-Spinup-Namelist-1_18500101_19491231_1M_zos.nc',\n",
       "  '/gpfsdsmnt/ipsl/dods/pub/ues27zx/IPSLCM6/DEVT/piControl/CM65Work-Spinup-Namelist-1/OCE/Analyse/TS_MO/CM65Work-Spinup-Namelist-1_19500101_20491231_1M_zos.nc']}"
      ]
     },
     "execution_count": 78,
     "metadata": {},
     "output_type": "execute_result"
    }
   ],
   "source": [
    "data"
   ]
  },
  {
   "cell_type": "markdown",
   "id": "a1b7e62a-86c0-4c6d-9f41-a915825c9d2e",
   "metadata": {},
   "source": [
    "### 1.2 - Select features observing the file structure"
   ]
  },
  {
   "cell_type": "code",
   "execution_count": 79,
   "id": "499ff98b-637d-43d8-b9f6-d44ecb9611c9",
   "metadata": {},
   "outputs": [
    {
     "name": "stdout",
     "output_type": "stream",
     "text": [
      "zos.nc\n",
      "\n",
      "Simulation length: 1200\n",
      "\n",
      "1D var:\n",
      "\n",
      "3D var:\n",
      "   - sea_surface_height_above_geoid: zos (m) - ('time_counter', 'y', 'x')\n",
      "\n",
      "4D var:\n",
      "\n",
      "other:\n"
     ]
    }
   ],
   "source": [
    "grid           = grid_term[0]\n",
    "d1,d3,d4,other = [],[],[],[]\n",
    "dataset        = xr.open_dataset(data[grid][-1],decode_times=False)\n",
    "\n",
    "for var in dataset.data_vars:\n",
    "    dims  = dataset[var].dims\n",
    "    name  = dataset[var].attrs.get('long_name',\"NA\")\n",
    "    units = dataset[var].attrs.get('units',\"NA\")\n",
    "    info  = f\"{name}: {var} ({units}) - {dims}\"\n",
    "    if time_dim in dims:\n",
    "        if len(dims)==1:\n",
    "            d1.append((info))\n",
    "        elif len(dims)==3:\n",
    "            d3.append(info) \n",
    "        elif len(dims)==4:\n",
    "            d4.append(info)\n",
    "    else:\n",
    "        other.append(info)\n",
    "        \n",
    "print(f\"{grid}\\n\")\n",
    "print(f\"Simulation length: {dataset.sizes[time_dim]}\\n\")\n",
    "print(\"1D var:\")\n",
    "for var in d1: print(\"   -\",var)\n",
    "print()\n",
    "print(\"3D var:\")\n",
    "for var in d3: print(\"   -\",var)\n",
    "print()\n",
    "print(\"4D var:\")\n",
    "for var in d4: print(\"   -\",var)\n",
    "print()\n",
    "print(\"other:\")\n",
    "for var in other: print(\"   -\",var)"
   ]
  },
  {
   "cell_type": "code",
   "execution_count": 80,
   "id": "418ea237-a7ee-4454-ab25-15dc5d6af55e",
   "metadata": {},
   "outputs": [],
   "source": [
    "var1D = []\n",
    "var3D = [\"zos\"] #bbl is empty\n",
    "#var4D = [\"msftyz_glo\"]\n",
    "depth_dim  = \"depthw\""
   ]
  },
  {
   "cell_type": "markdown",
   "id": "84fa28ca-0d82-4f53-b093-979dcfd55ac0",
   "metadata": {},
   "source": [
    "## **Extract features**"
   ]
  },
  {
   "cell_type": "markdown",
   "id": "287b9f36-cecb-4459-bc27-d8646c255b11",
   "metadata": {},
   "source": [
    "### 2.1 - Extract 1D time series"
   ]
  },
  {
   "cell_type": "code",
   "execution_count": 81,
   "id": "bfc35351-57ef-44c4-8a44-0076de30836b",
   "metadata": {},
   "outputs": [],
   "source": [
    "dico1=None"
   ]
  },
  {
   "cell_type": "code",
   "execution_count": 82,
   "id": "88dcf964-5bbc-4fde-9ef8-25a0e26b219f",
   "metadata": {},
   "outputs": [],
   "source": [
    "#dico1 = toDictionnary(data[\"grid_U.nc\"],\"time_counter\",1,var1D)\n",
    "\n",
    "#print(\"Info of the simu    :\",dico1.keys())\n",
    "#print(\"\\nNb of variables     :\",len(dico1[\"features\"].keys()))\n",
    "#print(\"List of Variables   :\",dico1[\"features\"].keys())\n",
    "#print(\"Duration of the simu:\", dico1[\"features\"][var3D[0]].shape[0])\n"
   ]
  },
  {
   "cell_type": "markdown",
   "id": "ddd2fb25-20be-4a69-b68f-a1ccfac271cd",
   "metadata": {},
   "source": [
    "### 2.2 - Extract 3D Features"
   ]
  },
  {
   "cell_type": "code",
   "execution_count": 83,
   "id": "03113366-2a48-4ebe-815b-d848d8a143d4",
   "metadata": {},
   "outputs": [
    {
     "name": "stderr",
     "output_type": "stream",
     "text": [
      "/linkhome/rech/genloc01/uen17sn/.local/lib/python3.9/site-packages/xarray/backends/plugins.py:71: RuntimeWarning: Engine 'cfgrib' loading failed:\n",
      "Cannot find the ecCodes library\n",
      "  warnings.warn(f\"Engine {name!r} loading failed:\\n{ex}\", RuntimeWarning)\n"
     ]
    }
   ],
   "source": [
    "#dico2 = None\n",
    "\n",
    "dico2 = prepare.toDictionnary(grid     = data[grid],\n",
    "                              dtime    = time_dim,    # !!! if to yearly change the coarsen function dimension !!!\n",
    "                              nb_dim   = 3,\n",
    "                              yearly   = to_yearly,\n",
    "                              filter   = var3D,\n",
    "                              cut_simu = cut_simu)  #unit depends on yearly = True or not\n"
   ]
  },
  {
   "cell_type": "code",
   "execution_count": 84,
   "id": "d075d203-7e12-4dcd-a363-89a3460f2839",
   "metadata": {},
   "outputs": [
    {
     "data": {
      "text/plain": [
       "(2100, 331, 360)"
      ]
     },
     "execution_count": 84,
     "metadata": {},
     "output_type": "execute_result"
    }
   ],
   "source": [
    "np.shape(dico2[\"features\"][\"zos\"])"
   ]
  },
  {
   "cell_type": "code",
   "execution_count": 85,
   "id": "b71a3c32-3f55-43c8-9a70-07896653a409",
   "metadata": {},
   "outputs": [],
   "source": [
    "#print(\"Info of the dico     :\",dico2.keys())\n",
    "#print(\"\\nNb of variables     :\",len(dico2[\"features\"].keys()))\n",
    "#print(\"List of Variables   :\",dico2[\"features\"].keys())\n",
    "#print(\"Duration of the simu:\", dico2[\"features\"][var3D[0]].shape[0])\n",
    "\n",
    "#print(\"\\nFeatures infos:\")\n",
    "#for var in dico2[\"features\"].keys():\n",
    "#    print(f\"   - {var} : {dico2['features'][var].shape}\")"
   ]
  },
  {
   "cell_type": "markdown",
   "id": "95269998-761e-4851-b6b2-fd528a770429",
   "metadata": {},
   "source": [
    "### 2.3 - Extract 4D features"
   ]
  },
  {
   "cell_type": "code",
   "execution_count": 86,
   "id": "653ccc92-bb77-4ceb-b0ef-62e185456e9b",
   "metadata": {},
   "outputs": [],
   "source": [
    "dico3=None\n",
    "#dico3 = prepare.toDictionnary(grid     = data[grid],\n",
    "#                              dtime     = time_dim,\n",
    "#                              nb_dim   = 4,\n",
    "#                              filter   = var4D,\n",
    "#                              yearly   = to_yearly,\n",
    "#                              mean_dim = depth_dim,\n",
    "#                              cut_simu = cut_simu,\n",
    "#                              n_jobs   = 1)"
   ]
  },
  {
   "cell_type": "code",
   "execution_count": 87,
   "id": "6abd9cf2-b4a5-44de-828f-8f3eec26e0f8",
   "metadata": {},
   "outputs": [],
   "source": [
    "#print(\"\\nNb of variables     :\",len(dico3[\"features\"].keys()))\n",
    "#print(\"List of Variables   :\",dico3[\"features\"].keys())\n",
    "#print(\"Duration of the simu:\", dico3[\"features\"][var4D[0]].shape[0])\n",
    "\n",
    "#print(\"\\nFeatures infos:\")\n",
    "#for var in dico3[\"features\"].keys():\n",
    "#    print(f\"   - {var} : {dico3['features'][var].shape}\")"
   ]
  },
  {
   "cell_type": "markdown",
   "id": "8b58d131-bbf0-4a2c-b91d-8febbe3e08f9",
   "metadata": {},
   "source": [
    "\n",
    "### 2.4 - Extract MSFT"
   ]
  },
  {
   "cell_type": "markdown",
   "id": "ca848536-23d1-4e00-888e-229a43f0636d",
   "metadata": {},
   "source": [
    "def get_msft(path,velo,thickness,depth,yearly):\n",
    "    file      = xr.open_dataset(path, chunks={\"time_counter\": 50},decode_times=False)\n",
    "    to_delete = set(file.variables) - set([velo,thickness,depth])\n",
    "    file      = file.drop_vars(to_delete)\n",
    "    \n",
    "    if yearly:\n",
    "        file = file.coarsen(time_counter=12).mean().load() #TO CHANGE WITH TIME DIM\n",
    "        \n",
    "    velocity = file[velo] * file[thickness]\n",
    "    velocity = velocity.sum(depth)\n",
    "    msft     = np.array(velocity.cumsum(dim=\"y\"))\n",
    "    \n",
    "    mask = np.isnan(file[velo][0,0].values)\n",
    "    mask = np.broadcast_to(mask, msft.shape)\n",
    "    msft = xr.where(mask, np.nan, msft)\n",
    "    \n",
    "    msft_dataset = xr.Dataset(\n",
    "        {'MSFT': (['time_counter', 'y', 'x'], np.array(msft))},\n",
    "        coords={\n",
    "            'time_counter': file[velo].coords['time_counter'],\n",
    "            'y': file[velo].coords['y'],\n",
    "            'x': file[velo].coords['x']})\n",
    "    file.close()\n",
    "    return msft_dataset"
   ]
  },
  {
   "cell_type": "markdown",
   "id": "24e7e057-0762-49fb-9cdb-a117c4aae8fd",
   "metadata": {},
   "source": [
    "def parallel_velo(grid,velo=\"uo\",thickness=\"e3u\",depth=\"depthu\",ssca=True,yearly=True,cut_simu=10,n_jobs=1):\n",
    "    ds = list(Parallel(n_jobs)(delayed(get_msft)(path,velo,thickness,depth,yearly) for path in grid))\n",
    "    ds = xr.concat(ds, \"time_counter\")   \n",
    "    var = \"MSFT\"\n",
    "    return ds"
   ]
  },
  {
   "cell_type": "code",
   "execution_count": 88,
   "id": "630c3b17-5f2a-4c99-b1ad-b9f2a9bad6ce",
   "metadata": {},
   "outputs": [],
   "source": [
    "#import joblib\n",
    "#from joblib import Parallel, delayed, parallel_backend\n",
    "#dico4 = parallel_velo(data[grid],\n",
    "#                      ssca=ssca,\n",
    "#                      yearly=to_yearly,\n",
    "#                      cut_simu=cut_simu,\n",
    "#                      n_jobs=2)"
   ]
  },
  {
   "cell_type": "code",
   "execution_count": 89,
   "id": "ad539018-6035-41f8-8fc2-f475f00ca728",
   "metadata": {},
   "outputs": [],
   "source": [
    "#ssca = prepare.getSSCA(test,[\"MSFT\"])"
   ]
  },
  {
   "cell_type": "code",
   "execution_count": 90,
   "id": "be4b3a8d-7bb1-4e0a-8eb4-96fab088bb4e",
   "metadata": {},
   "outputs": [],
   "source": [
    "#var = \"MSFT\"\n",
    "#ds  = dico4\n",
    "\n",
    "#features_dico,mean_dico,std_dico = {},{},{}\n",
    "#ds[var].values[ds[var].values == 0.] = np.nan   \n",
    "#ds[var] = ds[var].astype(np.float32) \n",
    "#mean    = ds.mean()\n",
    "#std     = ds.std()\n",
    "#ds[var] = (ds[var] - mean[var]) / (2*std[var])  \n",
    "        \n",
    "#features_dico[var] = ds[var].values\n",
    "#mean_dico[var]     = mean[var].values\n",
    "#std_dico[var]      = std[var].values\n"
   ]
  },
  {
   "cell_type": "code",
   "execution_count": 91,
   "id": "d71ac7f9-a543-4987-8f80-12e5646e45ff",
   "metadata": {},
   "outputs": [],
   "source": [
    "#msft_dico = {\"features\":features_dico,\"mean\":mean_dico,\"std\":std_dico} #\"ssca\":ssca"
   ]
  },
  {
   "cell_type": "code",
   "execution_count": 92,
   "id": "6ea6acde-8ba4-4df1-bceb-438001ded01b",
   "metadata": {},
   "outputs": [],
   "source": [
    "#msft_dico[\"features\"][\"MSFT\"] = msft_dico[\"features\"][\"MSFT\"][cut_simu:]"
   ]
  },
  {
   "cell_type": "markdown",
   "id": "1f7c2fa0-df8e-427b-9e90-3831d421b1b2",
   "metadata": {},
   "source": [
    "## **Transform to times series**"
   ]
  },
  {
   "cell_type": "markdown",
   "id": "ae677d60-e603-47c5-9a7e-ce961979e964",
   "metadata": {},
   "source": [
    "### 3.1 - Dico of 3D Features"
   ]
  },
  {
   "cell_type": "code",
   "execution_count": 93,
   "id": "33da3e97-917d-48d9-a51b-f66546a263a4",
   "metadata": {},
   "outputs": [
    {
     "name": "stdout",
     "output_type": "stream",
     "text": [
      "Info of the simu    : dict_keys(['features', 'mean', 'std', 'ssca', 'mask', 'pca'])\n",
      "\n",
      "Features infos:\n",
      "   - zos : (2100, 57)\n"
     ]
    }
   ],
   "source": [
    "prepare.toTimeSeries(simu   = dico2,\n",
    "                     n_comp = pca_comp)\n",
    "\n",
    "\n",
    "print(\"Info of the simu    :\",dico2.keys())\n",
    "print(\"\\nFeatures infos:\")\n",
    "for var in dico2[\"features\"].keys():\n",
    "    print(f\"   - {var} : {dico2['features'][var].shape}\")"
   ]
  },
  {
   "cell_type": "code",
   "execution_count": 94,
   "id": "92477ceb-0de7-40b3-9def-cadba02f6ff3",
   "metadata": {},
   "outputs": [
    {
     "data": {
      "text/plain": [
       "[<matplotlib.lines.Line2D at 0x145df7d5e6d0>]"
      ]
     },
     "execution_count": 94,
     "metadata": {},
     "output_type": "execute_result"
    },
    {
     "data": {
      "image/png": "[encoded data removed]",
      "text/plain": [
       "<Figure size 720x288 with 1 Axes>"
      ]
     },
     "metadata": {
      "needs_background": "light"
     },
     "output_type": "display_data"
    }
   ],
   "source": [
    "#should not observe effects of currents with cut simu\n",
    "fig = plt.figure(figsize=(10,4))\n",
    "plt.plot(np.array(dico2[\"features\"][\"zos\"])[25:,0])"
   ]
  },
  {
   "cell_type": "markdown",
   "id": "9d362ed8-347a-4ef4-8449-89974c6399ca",
   "metadata": {},
   "source": [
    "### 3.2 - Dico of 4D Features"
   ]
  },
  {
   "cell_type": "code",
   "execution_count": 95,
   "id": "43b7d6ab-a926-4429-86db-1ea5f5cab8d6",
   "metadata": {},
   "outputs": [],
   "source": [
    "#dico3 = prepare.toTimeSeries(simu   = dico3,\n",
    "#                             n_comp = pca_comp)\n",
    "\n",
    "#print(\"\\nFeatures infos:\")\n",
    "#print(\"Info of the simu    :\",dico3.keys())\n",
    "#for var in dico3[\"features\"].keys():\n",
    "#    print(f\"   - {var} : {dico3['features'][var].shape}\")"
   ]
  },
  {
   "cell_type": "markdown",
   "id": "2032a76f-30e2-4a7d-930a-830dca908950",
   "metadata": {},
   "source": [
    "## **Concatenate dictionnaries**"
   ]
  },
  {
   "cell_type": "markdown",
   "id": "e7746dea-3887-4f53-be2a-1e5ab1380555",
   "metadata": {},
   "source": [
    "### 4.1 - Concatenate features"
   ]
  },
  {
   "cell_type": "code",
   "execution_count": 96,
   "id": "fc90d91b-2fb4-4c01-8c8a-683afe2ed22d",
   "metadata": {
    "tags": []
   },
   "outputs": [
    {
     "name": "stdout",
     "output_type": "stream",
     "text": [
      "\n",
      "Nb of variables     : 1\n",
      "List of Variables   : dict_keys(['zos'])\n",
      "Duration of the simu: 2100\n",
      "Info of the simu    : dict_keys(['features', 'mean', 'std', 'ssca', 'mask', 'pca'])\n",
      "   - zos : (2100, 57)\n"
     ]
    }
   ],
   "source": [
    "grids      = []\n",
    "grid_dico  = {\"features\":{},\"mean\":{},\"std\":{},\"ssca\":{},\"mask\":{},\"pca\":{}}\n",
    "dicos      = [dico2] #NO EMPTY DICO\n",
    "\n",
    "grids.append(prepare.concatenateDico(dicos))\n",
    "\n",
    "print(\"\\nNb of variables     :\",len(grids[0][\"features\"].keys()))\n",
    "print(\"List of Variables   :\",grids[0][\"features\"].keys())\n",
    "print(\"Duration of the simu:\", grids[0][\"features\"][var3D[0]].shape[0])\n",
    "print(\"Info of the simu    :\",grids[0].keys())\n",
    "\n",
    "for var in grids[0][\"features\"].keys():\n",
    "    print(f\"   - {var} : {grids[0]['features'][var].shape}\")"
   ]
  },
  {
   "cell_type": "markdown",
   "id": "1ad6ce49-84c9-4b16-a9e6-1f416645e9d2",
   "metadata": {},
   "source": [
    "### 4.2 - Concatenate grids"
   ]
  },
  {
   "cell_type": "code",
   "execution_count": 97,
   "id": "886b42d2-edde-4eef-8882-ae3c49852cc6",
   "metadata": {},
   "outputs": [
    {
     "name": "stdout",
     "output_type": "stream",
     "text": [
      "\n",
      "Nb of variables     : 1\n",
      "List of Variables   : dict_keys(['zos'])\n",
      "Duration of the simu: 2100\n",
      "Info of the simu    : dict_keys(['features', 'mean', 'std', 'ssca', 'mask', 'pca'])\n",
      "   - zos : (2100, 57)\n",
      "Info of the ssca    : dict_keys(['features', 'mean', 'std', 'ssca', 'mask', 'pca'])\n",
      "   - zos : (12, 331, 360)\n"
     ]
    }
   ],
   "source": [
    "simu_dico = prepare.concatenateGrid(grids)\n",
    "\n",
    "print(\"\\nNb of variables     :\",len(simu_dico[\"features\"].keys()))\n",
    "print(\"List of Variables   :\",simu_dico[\"features\"].keys())\n",
    "print(\"Duration of the simu:\", simu_dico[\"features\"][var3D[0]].shape[0])\n",
    "print(\"Info of the simu    :\",simu_dico.keys())\n",
    "\n",
    "for var in simu_dico[\"features\"].keys():\n",
    "    print(f\"   - {var} : {simu_dico['features'][var].shape}\")\n",
    "    \n",
    "print(\"Info of the ssca    :\",simu_dico.keys())\n",
    "for var in simu_dico[\"features\"].keys():\n",
    "    print(f\"   - {var} : {simu_dico['ssca'][var].shape}\")"
   ]
  },
  {
   "cell_type": "markdown",
   "id": "e03abc80-2231-4f07-98f7-16da0b4aa05d",
   "metadata": {},
   "source": [
    "## **Save the simulation dictionnary**"
   ]
  },
  {
   "cell_type": "code",
   "execution_count": 98,
   "id": "247eac0a-d1a1-4dc3-a2d3-e4c49ba72a56",
   "metadata": {},
   "outputs": [
    {
     "name": "stdout",
     "output_type": "stream",
     "text": [
      "you file where successfully saved in the dataset/monthly/pca and the dataset/monthly/simu folders\n",
      "the number of the simulation is 113\n"
     ]
    }
   ],
   "source": [
    "prepare.saveSimu(dico   = simu_dico,\n",
    "                 yearly = to_yearly,\n",
    "                 n      = simu_nb)"
   ]
  },
  {
   "cell_type": "markdown",
   "id": "2ace8775-08b5-4841-aaf6-8f3f7ebc5bf2",
   "metadata": {},
   "source": [
    "___"
   ]
  },
  {
   "cell_type": "code",
   "execution_count": null,
   "id": "52ccb109-962f-44e5-9b64-c11be1bc28c3",
   "metadata": {},
   "outputs": [],
   "source": []
  },
  {
   "cell_type": "code",
   "execution_count": null,
   "id": "b711f14e-93e9-4c29-a41f-203ea0c5fadf",
   "metadata": {},
   "outputs": [],
   "source": []
  },
  {
   "cell_type": "code",
   "execution_count": null,
   "id": "6d5a3c4a-d509-48fe-8da1-3e9bfa27b91f",
   "metadata": {},
   "outputs": [],
   "source": []
  },
  {
   "cell_type": "code",
   "execution_count": null,
   "id": "a79a5ad6-11ac-4554-9819-206611fcd27c",
   "metadata": {},
   "outputs": [],
   "source": []
  },
  {
   "cell_type": "code",
   "execution_count": null,
   "id": "06e8e9e8-89fc-47e8-b7d5-f02598a07ecf",
   "metadata": {},
   "outputs": [],
   "source": []
  },
  {
   "cell_type": "code",
   "execution_count": null,
   "id": "99e5e2ea-9af5-4c02-8122-36b323855c92",
   "metadata": {},
   "outputs": [],
   "source": []
  },
  {
   "cell_type": "code",
   "execution_count": null,
   "id": "979b981a-6b32-46fd-8ed4-76bee8bd1a1e",
   "metadata": {},
   "outputs": [],
   "source": []
  }
 ],
 "metadata": {
  "kernelspec": {
   "display_name": "pytorch-gpu-1.10.1_py3.9.7",
   "language": "python",
   "name": "module-conda-env-pytorch-gpu-1.10.1_py3.9.7"
  },
  "language_info": {
   "codemirror_mode": {
    "name": "ipython",
    "version": 3
   },
   "file_extension": ".py",
   "mimetype": "text/x-python",
   "name": "python",
   "nbconvert_exporter": "python",
   "pygments_lexer": "ipython3",
   "version": "3.9.7"
  }
 },
 "nbformat": 4,
 "nbformat_minor": 5
}